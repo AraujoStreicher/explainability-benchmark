{
 "cells": [
  {
   "cell_type": "code",
   "execution_count": null,
   "metadata": {
    "_cell_guid": "b1076dfc-b9ad-4769-8c92-a6c4dae69d19",
    "_uuid": "8f2839f25d086af736a60e9eeb907d3b93b6e0e5",
    "execution": {
     "iopub.execute_input": "2025-10-11T22:15:52.779411Z",
     "iopub.status.busy": "2025-10-11T22:15:52.779157Z",
     "iopub.status.idle": "2025-10-11T22:16:04.190738Z",
     "shell.execute_reply": "2025-10-11T22:16:04.190169Z",
     "shell.execute_reply.started": "2025-10-11T22:15:52.779388Z"
    },
    "trusted": true
   },
   "outputs": [],
   "source": [
    "import torch\n",
    "import torch.nn as nn\n",
    "import torch.optim as optim\n",
    "from torchvision import datasets, models, transforms\n",
    "from torch.utils.data import DataLoader\n",
    "import time\n",
    "import os"
   ]
  },
  {
   "cell_type": "code",
   "execution_count": null,
   "metadata": {
    "execution": {
     "iopub.execute_input": "2025-10-11T22:16:04.191706Z",
     "iopub.status.busy": "2025-10-11T22:16:04.191422Z",
     "iopub.status.idle": "2025-10-11T22:16:04.283233Z",
     "shell.execute_reply": "2025-10-11T22:16:04.282458Z",
     "shell.execute_reply.started": "2025-10-11T22:16:04.191689Z"
    },
    "trusted": true
   },
   "outputs": [],
   "source": [
    "from utils.cub_config import Config\n",
    "\n",
    "device = torch.device(\"cuda\" if torch.cuda.is_available() else \"cpu\")\n",
    "data_dir = Config.DATA_DIR\n",
    "num_classes = 200\n",
    "batch_size = 16\n",
    "num_epochs = 15\n",
    "learning_rate = 1e-5"
   ]
  },
  {
   "cell_type": "code",
   "execution_count": 3,
   "metadata": {
    "execution": {
     "iopub.execute_input": "2025-10-11T22:16:29.714037Z",
     "iopub.status.busy": "2025-10-11T22:16:29.713485Z",
     "iopub.status.idle": "2025-10-11T22:16:29.719274Z",
     "shell.execute_reply": "2025-10-11T22:16:29.718529Z",
     "shell.execute_reply.started": "2025-10-11T22:16:29.714004Z"
    },
    "trusted": true
   },
   "outputs": [
    {
     "name": "stdout",
     "output_type": "stream",
     "text": [
      "Using device: cuda\n"
     ]
    }
   ],
   "source": [
    "print(f\"Using device: {device}\")"
   ]
  },
  {
   "cell_type": "code",
   "execution_count": 6,
   "metadata": {
    "execution": {
     "iopub.execute_input": "2025-10-11T22:16:49.774174Z",
     "iopub.status.busy": "2025-10-11T22:16:49.773849Z",
     "iopub.status.idle": "2025-10-11T22:16:49.779155Z",
     "shell.execute_reply": "2025-10-11T22:16:49.778550Z",
     "shell.execute_reply.started": "2025-10-11T22:16:49.774151Z"
    },
    "trusted": true
   },
   "outputs": [],
   "source": [
    "train_transforms = transforms.Compose([\n",
    "    transforms.RandomResizedCrop(448),\n",
    "    transforms.RandomHorizontalFlip(),\n",
    "    transforms.ColorJitter(brightness=0.2, contrast=0.2, saturation=0.2),\n",
    "    transforms.ToTensor(),\n",
    "    transforms.Normalize([0.485, 0.456, 0.406],\n",
    "                         [0.229, 0.224, 0.225])\n",
    "])\n",
    "\n",
    "val_transforms = transforms.Compose([\n",
    "    transforms.Resize(512),\n",
    "    transforms.CenterCrop(448),\n",
    "    transforms.ToTensor(),\n",
    "    transforms.Normalize([0.485, 0.456, 0.406],\n",
    "                         [0.229, 0.224, 0.225])\n",
    "])"
   ]
  },
  {
   "cell_type": "code",
   "execution_count": 7,
   "metadata": {
    "execution": {
     "iopub.execute_input": "2025-10-11T22:16:53.903866Z",
     "iopub.status.busy": "2025-10-11T22:16:53.903354Z",
     "iopub.status.idle": "2025-10-11T22:17:04.835748Z",
     "shell.execute_reply": "2025-10-11T22:17:04.835174Z",
     "shell.execute_reply.started": "2025-10-11T22:16:53.903844Z"
    },
    "trusted": true
   },
   "outputs": [],
   "source": [
    "train_dataset = datasets.ImageFolder(root=f\"{data_dir}/train\", transform=train_transforms)\n",
    "val_dataset = datasets.ImageFolder(root=f\"{data_dir}/test\", transform=val_transforms)\n",
    "\n",
    "train_loader = DataLoader(train_dataset, batch_size=batch_size, shuffle=True, num_workers=4)\n",
    "val_loader = DataLoader(val_dataset, batch_size=batch_size, shuffle=False, num_workers=4)"
   ]
  },
  {
   "cell_type": "code",
   "execution_count": 8,
   "metadata": {
    "execution": {
     "iopub.execute_input": "2025-10-11T22:17:08.981939Z",
     "iopub.status.busy": "2025-10-11T22:17:08.981278Z",
     "iopub.status.idle": "2025-10-11T22:17:10.421211Z",
     "shell.execute_reply": "2025-10-11T22:17:10.420420Z",
     "shell.execute_reply.started": "2025-10-11T22:17:08.981914Z"
    },
    "trusted": true
   },
   "outputs": [
    {
     "name": "stderr",
     "output_type": "stream",
     "text": [
      "Downloading: \"https://download.pytorch.org/models/resnet50-11ad3fa6.pth\" to /root/.cache/torch/hub/checkpoints/resnet50-11ad3fa6.pth\n",
      "100%|██████████| 97.8M/97.8M [00:00<00:00, 186MB/s] \n"
     ]
    }
   ],
   "source": [
    "model = models.resnet50(weights=models.ResNet50_Weights.IMAGENET1K_V2)\n",
    "\n",
    "# Substituir a última camada totalmente conectada\n",
    "model.fc = nn.Linear(model.fc.in_features, num_classes)\n",
    "\n",
    "model = model.to(device)\n",
    "\n",
    "for param in model.parameters():\n",
    "    param.requires_grad = True\n"
   ]
  },
  {
   "cell_type": "code",
   "execution_count": 9,
   "metadata": {
    "execution": {
     "iopub.execute_input": "2025-10-11T22:17:15.339763Z",
     "iopub.status.busy": "2025-10-11T22:17:15.339044Z",
     "iopub.status.idle": "2025-10-11T22:17:15.344355Z",
     "shell.execute_reply": "2025-10-11T22:17:15.343793Z",
     "shell.execute_reply.started": "2025-10-11T22:17:15.339730Z"
    },
    "trusted": true
   },
   "outputs": [],
   "source": [
    "criterion = nn.CrossEntropyLoss()\n",
    "optimizer = optim.Adam(model.parameters(), lr=learning_rate)\n",
    "scheduler = optim.lr_scheduler.ReduceLROnPlateau(optimizer, mode='min', factor=0.3, patience=3)"
   ]
  },
  {
   "cell_type": "code",
   "execution_count": null,
   "metadata": {
    "execution": {
     "iopub.execute_input": "2025-10-11T22:17:54.525636Z",
     "iopub.status.busy": "2025-10-11T22:17:54.524997Z",
     "iopub.status.idle": "2025-10-11T22:17:54.532561Z",
     "shell.execute_reply": "2025-10-11T22:17:54.531854Z",
     "shell.execute_reply.started": "2025-10-11T22:17:54.525610Z"
    },
    "trusted": true
   },
   "outputs": [],
   "source": [
    "def train_model(model, criterion, optimizer, scheduler, num_epochs=10):\n",
    "    best_acc = 0.0\n",
    "\n",
    "    for epoch in range(num_epochs):\n",
    "        print(f\"\\nÉpoca {epoch+1}/{num_epochs}\")\n",
    "        print(\"-\" * 30)\n",
    "\n",
    "        for phase in ['train', 'val']:\n",
    "            if phase == 'train':\n",
    "                model.train()\n",
    "                dataloader = train_loader\n",
    "            else:\n",
    "                model.eval()\n",
    "                dataloader = val_loader\n",
    "\n",
    "            running_loss = 0.0\n",
    "            running_corrects = 0\n",
    "\n",
    "            for inputs, labels in dataloader:\n",
    "                inputs, labels = inputs.to(device), labels.to(device)\n",
    "                optimizer.zero_grad()\n",
    "\n",
    "                with torch.set_grad_enabled(phase == 'train'):\n",
    "                    outputs = model(inputs)\n",
    "                    _, preds = torch.max(outputs, 1)\n",
    "                    loss = criterion(outputs, labels)\n",
    "\n",
    "                    if phase == 'train':\n",
    "                        loss.backward()\n",
    "                        optimizer.step()\n",
    "\n",
    "                running_loss += loss.item() * inputs.size(0)\n",
    "                running_corrects += torch.sum(preds == labels.data)\n",
    "\n",
    "            epoch_loss = running_loss / len(dataloader.dataset)\n",
    "            epoch_acc = running_corrects.double() / len(dataloader.dataset)\n",
    "\n",
    "            print(f\"{phase} Loss: {epoch_loss:.4f} Acc: {epoch_acc:.4f}\")\n",
    "\n",
    "            if phase == 'val':\n",
    "                scheduler.step(epoch_loss)\n",
    "\n",
    "                # Salvar melhor modelo\n",
    "                if epoch_acc > best_acc:\n",
    "                    best_acc = epoch_acc\n",
    "                    if Config.SAVE_MODEL_DIR is not None:\n",
    "                        save_path = os.path.join(Config.SAVE_MODEL_DIR, \"best_resnet50_cub_fullfinetune.pth\")\n",
    "                    else:\n",
    "                        save_path = \"best_resnet50_cub_fullfinetune.pth\"\n",
    "\n",
    "                    torch.save(model.state_dict(), save_path)\n",
    "\n",
    "    print(f\"\\nTreinamento concluído! Melhor acurácia de validação: {best_acc:.4f}\")"
   ]
  },
  {
   "cell_type": "code",
   "execution_count": 14,
   "metadata": {
    "execution": {
     "iopub.execute_input": "2025-10-11T22:18:44.139874Z",
     "iopub.status.busy": "2025-10-11T22:18:44.139606Z",
     "iopub.status.idle": "2025-10-12T00:15:12.423004Z",
     "shell.execute_reply": "2025-10-12T00:15:12.422050Z",
     "shell.execute_reply.started": "2025-10-11T22:18:44.139853Z"
    },
    "trusted": true
   },
   "outputs": [
    {
     "name": "stdout",
     "output_type": "stream",
     "text": [
      "\n",
      "Época 1/15\n",
      "------------------------------\n",
      "train Loss: 5.2680 Acc: 0.0137\n",
      "val Loss: 5.1889 Acc: 0.0341\n",
      "\n",
      "Época 2/15\n",
      "------------------------------\n",
      "train Loss: 5.0156 Acc: 0.0621\n",
      "val Loss: 4.4410 Acc: 0.1807\n",
      "\n",
      "Época 3/15\n",
      "------------------------------\n",
      "train Loss: 4.3338 Acc: 0.1603\n",
      "val Loss: 3.4292 Acc: 0.3117\n",
      "\n",
      "Época 4/15\n",
      "------------------------------\n",
      "train Loss: 3.7279 Acc: 0.2806\n",
      "val Loss: 2.8060 Acc: 0.4402\n",
      "\n",
      "Época 5/15\n",
      "------------------------------\n",
      "train Loss: 3.2951 Acc: 0.3652\n",
      "val Loss: 2.3672 Acc: 0.5215\n",
      "\n",
      "Época 6/15\n",
      "------------------------------\n",
      "train Loss: 2.9216 Acc: 0.4396\n",
      "val Loss: 1.9904 Acc: 0.5876\n",
      "\n",
      "Época 7/15\n",
      "------------------------------\n",
      "train Loss: 2.6282 Acc: 0.4867\n",
      "val Loss: 1.7101 Acc: 0.6398\n",
      "\n",
      "Época 8/15\n",
      "------------------------------\n",
      "train Loss: 2.3794 Acc: 0.5314\n",
      "val Loss: 1.5105 Acc: 0.6828\n",
      "\n",
      "Época 9/15\n",
      "------------------------------\n",
      "train Loss: 2.1926 Acc: 0.5703\n",
      "val Loss: 1.3748 Acc: 0.7043\n",
      "\n",
      "Época 10/15\n",
      "------------------------------\n",
      "train Loss: 2.0353 Acc: 0.5956\n",
      "val Loss: 1.2089 Acc: 0.7313\n",
      "\n",
      "Época 11/15\n",
      "------------------------------\n",
      "train Loss: 1.8821 Acc: 0.6200\n",
      "val Loss: 1.0922 Acc: 0.7578\n",
      "\n",
      "Época 12/15\n",
      "------------------------------\n",
      "train Loss: 1.7890 Acc: 0.6332\n",
      "val Loss: 1.0082 Acc: 0.7780\n",
      "\n",
      "Época 13/15\n",
      "------------------------------\n",
      "train Loss: 1.6694 Acc: 0.6611\n",
      "val Loss: 0.9345 Acc: 0.7953\n",
      "\n",
      "Época 14/15\n",
      "------------------------------\n",
      "train Loss: 1.5636 Acc: 0.6787\n",
      "val Loss: 0.8971 Acc: 0.7932\n",
      "\n",
      "Época 15/15\n",
      "------------------------------\n",
      "train Loss: 1.4866 Acc: 0.6991\n",
      "val Loss: 0.8162 Acc: 0.7995\n",
      "\n",
      "Treinamento concluído! Melhor acurácia de validação: 0.7995\n"
     ]
    }
   ],
   "source": [
    "train_model(model, criterion, optimizer, scheduler, num_epochs=num_epochs)"
   ]
  }
 ],
 "metadata": {
  "kaggle": {
   "accelerator": "nvidiaTeslaT4",
   "dataSources": [
    {
     "datasetId": 2534241,
     "sourceId": 5140550,
     "sourceType": "datasetVersion"
    },
    {
     "datasetId": 8460535,
     "sourceId": 13341731,
     "sourceType": "datasetVersion"
    }
   ],
   "dockerImageVersionId": 31154,
   "isGpuEnabled": true,
   "isInternetEnabled": true,
   "language": "python",
   "sourceType": "notebook"
  },
  "kernelspec": {
   "display_name": "Python 3",
   "language": "python",
   "name": "python3"
  },
  "language_info": {
   "codemirror_mode": {
    "name": "ipython",
    "version": 3
   },
   "file_extension": ".py",
   "mimetype": "text/x-python",
   "name": "python",
   "nbconvert_exporter": "python",
   "pygments_lexer": "ipython3",
   "version": "3.11.13"
  }
 },
 "nbformat": 4,
 "nbformat_minor": 4
}
